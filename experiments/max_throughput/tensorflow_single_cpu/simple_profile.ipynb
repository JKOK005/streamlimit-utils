{
 "cells": [
  {
   "cell_type": "code",
   "execution_count": 1,
   "metadata": {},
   "outputs": [],
   "source": [
    "from TensorflowSingleCPU import TensorflowSingleCPU\n"
   ]
  },
  {
   "cell_type": "code",
   "execution_count": 2,
   "metadata": {},
   "outputs": [
    {
     "name": "stdout",
     "output_type": "stream",
     "text": [
      "WARNING: pip is being invoked by an old script wrapper. This will fail in a future version of pip.\n",
      "Please see https://github.com/pypa/pip/issues/5599 for advice on fixing the underlying issue.\n",
      "To avoid this problem you can invoke Python with '-m pip' instead of running pip directly.\n",
      "Defaulting to user installation because normal site-packages is not writeable\n",
      "Requirement already satisfied: tensorboard-plugin-profile in /home/tywan/.local/lib/python3.6/site-packages (2.4.0)\n",
      "Requirement already satisfied: six>=1.10.0 in /home/tywan/.local/lib/python3.6/site-packages (from tensorboard-plugin-profile) (1.15.0)\n",
      "Requirement already satisfied: werkzeug>=0.11.15 in /usr/local/lib/python3.6/dist-packages (from tensorboard-plugin-profile) (0.15.4)\n",
      "Requirement already satisfied: gviz-api>=1.9.0 in /home/tywan/.local/lib/python3.6/site-packages (from tensorboard-plugin-profile) (1.9.0)\n",
      "Requirement already satisfied: setuptools>=41.0.0 in /home/tywan/.local/lib/python3.6/site-packages (from tensorboard-plugin-profile) (53.0.0)\n",
      "Requirement already satisfied: protobuf>=3.6.0 in /home/tywan/.local/lib/python3.6/site-packages (from tensorboard-plugin-profile) (3.14.0)\n"
     ]
    }
   ],
   "source": [
    "!pip install -U tensorboard-plugin-profile"
   ]
  },
  {
   "cell_type": "code",
   "execution_count": 3,
   "metadata": {},
   "outputs": [],
   "source": [
    "train = TensorflowSingleCPU\n",
    "params = { \n",
    "    \"units\" : 32, \n",
    "    \"training_rows\" : 3686, \n",
    "    \"training_steps_per_epoch\" : 5, \n",
    "    \"val_rows\" : 410, \n",
    "    \"val_steps_per_epoch\" : 5,\n",
    "    \"epochs\" : 40, \n",
    "    \"gen_workers\" : 2\n",
    "    }"
   ]
  },
  {
   "cell_type": "code",
   "execution_count": 4,
   "metadata": {},
   "outputs": [
    {
     "name": "stdout",
     "output_type": "stream",
     "text": [
      "Epoch 1/40\n",
      "WARNING:tensorflow:multiprocessing can interact badly with TensorFlow, causing nondeterministic deadlocks. For high performance data pipelines tf.data is recommended.\n",
      "10/10 [==============================] - ETA: 0s - loss: 0.3131 - accuracy: 0.0976WARNING:tensorflow:multiprocessing can interact badly with TensorFlow, causing nondeterministic deadlocks. For high performance data pipelines tf.data is recommended.\n",
      "10/10 [==============================] - 7s 558ms/step - loss: 0.3130 - accuracy: 0.0977 - val_loss: 0.3136 - val_accuracy: 0.1127\n",
      "Epoch 2/40\n",
      "10/10 [==============================] - ETA: 0s - loss: 0.3128 - accuracy: 0.0987WARNING:tensorflow:multiprocessing can interact badly with TensorFlow, causing nondeterministic deadlocks. For high performance data pipelines tf.data is recommended.\n",
      "10/10 [==============================] - 4s 433ms/step - loss: 0.3128 - accuracy: 0.0988 - val_loss: 0.3127 - val_accuracy: 0.1117\n",
      "Epoch 3/40\n",
      "10/10 [==============================] - ETA: 0s - loss: 0.3100 - accuracy: 0.0982WARNING:tensorflow:multiprocessing can interact badly with TensorFlow, causing nondeterministic deadlocks. For high performance data pipelines tf.data is recommended.\n",
      "10/10 [==============================] - 4s 410ms/step - loss: 0.3100 - accuracy: 0.0981 - val_loss: 0.3117 - val_accuracy: 0.1102\n",
      "Epoch 4/40\n",
      "10/10 [==============================] - ETA: 0s - loss: 0.3089 - accuracy: 0.1029WARNING:tensorflow:multiprocessing can interact badly with TensorFlow, causing nondeterministic deadlocks. For high performance data pipelines tf.data is recommended.\n",
      "10/10 [==============================] - 4s 387ms/step - loss: 0.3089 - accuracy: 0.1027 - val_loss: 0.3107 - val_accuracy: 0.1102\n",
      "Epoch 5/40\n",
      "10/10 [==============================] - ETA: 0s - loss: 0.3082 - accuracy: 0.1007WARNING:tensorflow:multiprocessing can interact badly with TensorFlow, causing nondeterministic deadlocks. For high performance data pipelines tf.data is recommended.\n",
      "10/10 [==============================] - 4s 381ms/step - loss: 0.3083 - accuracy: 0.1008 - val_loss: 0.3090 - val_accuracy: 0.1120\n",
      "Epoch 6/40\n",
      "10/10 [==============================] - ETA: 0s - loss: 0.3075 - accuracy: 0.1012WARNING:tensorflow:multiprocessing can interact badly with TensorFlow, causing nondeterministic deadlocks. For high performance data pipelines tf.data is recommended.\n",
      "10/10 [==============================] - 4s 399ms/step - loss: 0.3074 - accuracy: 0.1011 - val_loss: 0.3086 - val_accuracy: 0.1117\n",
      "Epoch 7/40\n",
      "10/10 [==============================] - ETA: 0s - loss: 0.3067 - accuracy: 0.1013WARNING:tensorflow:multiprocessing can interact badly with TensorFlow, causing nondeterministic deadlocks. For high performance data pipelines tf.data is recommended.\n",
      "10/10 [==============================] - 4s 393ms/step - loss: 0.3067 - accuracy: 0.1013 - val_loss: 0.3076 - val_accuracy: 0.1117\n",
      "Epoch 8/40\n",
      "10/10 [==============================] - ETA: 0s - loss: 0.3064 - accuracy: 0.0995WARNING:tensorflow:multiprocessing can interact badly with TensorFlow, causing nondeterministic deadlocks. For high performance data pipelines tf.data is recommended.\n",
      "10/10 [==============================] - 4s 393ms/step - loss: 0.3063 - accuracy: 0.0995 - val_loss: 0.3065 - val_accuracy: 0.1107\n",
      "Epoch 9/40\n",
      "10/10 [==============================] - ETA: 0s - loss: 0.3037 - accuracy: 0.0999WARNING:tensorflow:multiprocessing can interact badly with TensorFlow, causing nondeterministic deadlocks. For high performance data pipelines tf.data is recommended.\n",
      "10/10 [==============================] - 4s 376ms/step - loss: 0.3037 - accuracy: 0.0999 - val_loss: 0.3054 - val_accuracy: 0.1098\n",
      "Epoch 10/40\n",
      "10/10 [==============================] - ETA: 0s - loss: 0.3007 - accuracy: 0.1011WARNING:tensorflow:multiprocessing can interact badly with TensorFlow, causing nondeterministic deadlocks. For high performance data pipelines tf.data is recommended.\n",
      "10/10 [==============================] - 4s 380ms/step - loss: 0.3008 - accuracy: 0.1011 - val_loss: 0.3037 - val_accuracy: 0.1100\n",
      "Epoch 11/40\n",
      "10/10 [==============================] - ETA: 0s - loss: 0.3027 - accuracy: 0.1005WARNING:tensorflow:multiprocessing can interact badly with TensorFlow, causing nondeterministic deadlocks. For high performance data pipelines tf.data is recommended.\n",
      "10/10 [==============================] - 4s 381ms/step - loss: 0.3027 - accuracy: 0.1004 - val_loss: 0.3032 - val_accuracy: 0.1102\n",
      "Epoch 12/40\n",
      "10/10 [==============================] - ETA: 0s - loss: 0.2993 - accuracy: 0.0966WARNING:tensorflow:multiprocessing can interact badly with TensorFlow, causing nondeterministic deadlocks. For high performance data pipelines tf.data is recommended.\n",
      "10/10 [==============================] - 4s 386ms/step - loss: 0.2993 - accuracy: 0.0968 - val_loss: 0.3021 - val_accuracy: 0.1088\n",
      "Epoch 13/40\n",
      "10/10 [==============================] - ETA: 0s - loss: 0.3013 - accuracy: 0.0986WARNING:tensorflow:multiprocessing can interact badly with TensorFlow, causing nondeterministic deadlocks. For high performance data pipelines tf.data is recommended.\n",
      "10/10 [==============================] - 4s 398ms/step - loss: 0.3013 - accuracy: 0.0986 - val_loss: 0.3009 - val_accuracy: 0.1083\n",
      "Epoch 14/40\n",
      "10/10 [==============================] - ETA: 0s - loss: 0.2978 - accuracy: 0.0952WARNING:tensorflow:multiprocessing can interact badly with TensorFlow, causing nondeterministic deadlocks. For high performance data pipelines tf.data is recommended.\n",
      "10/10 [==============================] - 4s 399ms/step - loss: 0.2978 - accuracy: 0.0956 - val_loss: 0.2998 - val_accuracy: 0.1078\n",
      "Epoch 15/40\n",
      "10/10 [==============================] - ETA: 0s - loss: 0.2973 - accuracy: 0.0976WARNING:tensorflow:multiprocessing can interact badly with TensorFlow, causing nondeterministic deadlocks. For high performance data pipelines tf.data is recommended.\n",
      "10/10 [==============================] - 4s 380ms/step - loss: 0.2973 - accuracy: 0.0978 - val_loss: 0.2986 - val_accuracy: 0.1078\n",
      "Epoch 16/40\n",
      "10/10 [==============================] - ETA: 0s - loss: 0.2966 - accuracy: 0.1010WARNING:tensorflow:multiprocessing can interact badly with TensorFlow, causing nondeterministic deadlocks. For high performance data pipelines tf.data is recommended.\n",
      "10/10 [==============================] - 4s 390ms/step - loss: 0.2966 - accuracy: 0.1009 - val_loss: 0.2974 - val_accuracy: 0.1073\n",
      "Epoch 17/40\n",
      "10/10 [==============================] - ETA: 0s - loss: 0.2952 - accuracy: 0.1001WARNING:tensorflow:multiprocessing can interact badly with TensorFlow, causing nondeterministic deadlocks. For high performance data pipelines tf.data is recommended.\n",
      "10/10 [==============================] - 4s 392ms/step - loss: 0.2952 - accuracy: 0.1002 - val_loss: 0.2961 - val_accuracy: 0.1073\n",
      "Epoch 18/40\n",
      "10/10 [==============================] - ETA: 0s - loss: 0.2944 - accuracy: 0.1011WARNING:tensorflow:multiprocessing can interact badly with TensorFlow, causing nondeterministic deadlocks. For high performance data pipelines tf.data is recommended.\n",
      "10/10 [==============================] - 4s 401ms/step - loss: 0.2944 - accuracy: 0.1009 - val_loss: 0.2949 - val_accuracy: 0.1073\n",
      "Epoch 19/40\n",
      "10/10 [==============================] - ETA: 0s - loss: 0.2922 - accuracy: 0.1016WARNING:tensorflow:multiprocessing can interact badly with TensorFlow, causing nondeterministic deadlocks. For high performance data pipelines tf.data is recommended.\n",
      "10/10 [==============================] - 4s 401ms/step - loss: 0.2922 - accuracy: 0.1014 - val_loss: 0.2936 - val_accuracy: 0.1068\n",
      "Epoch 20/40\n",
      "10/10 [==============================] - ETA: 0s - loss: 0.2901 - accuracy: 0.1023WARNING:tensorflow:multiprocessing can interact badly with TensorFlow, causing nondeterministic deadlocks. For high performance data pipelines tf.data is recommended.\n",
      "10/10 [==============================] - 4s 394ms/step - loss: 0.2902 - accuracy: 0.1023 - val_loss: 0.2923 - val_accuracy: 0.1073\n",
      "Epoch 21/40\n",
      "10/10 [==============================] - ETA: 0s - loss: 0.2901 - accuracy: 0.1030WARNING:tensorflow:multiprocessing can interact badly with TensorFlow, causing nondeterministic deadlocks. For high performance data pipelines tf.data is recommended.\n"
     ]
    },
    {
     "name": "stdout",
     "output_type": "stream",
     "text": [
      "10/10 [==============================] - 4s 404ms/step - loss: 0.2900 - accuracy: 0.1027 - val_loss: 0.2910 - val_accuracy: 0.1063\n",
      "Epoch 22/40\n",
      "10/10 [==============================] - ETA: 0s - loss: 0.2902 - accuracy: 0.0988WARNING:tensorflow:multiprocessing can interact badly with TensorFlow, causing nondeterministic deadlocks. For high performance data pipelines tf.data is recommended.\n",
      "10/10 [==============================] - 4s 389ms/step - loss: 0.2901 - accuracy: 0.0990 - val_loss: 0.2896 - val_accuracy: 0.1054\n",
      "Epoch 23/40\n",
      "10/10 [==============================] - ETA: 0s - loss: 0.2878 - accuracy: 0.1048WARNING:tensorflow:multiprocessing can interact badly with TensorFlow, causing nondeterministic deadlocks. For high performance data pipelines tf.data is recommended.\n",
      "10/10 [==============================] - 4s 398ms/step - loss: 0.2877 - accuracy: 0.1047 - val_loss: 0.2883 - val_accuracy: 0.1063\n",
      "Epoch 24/40\n",
      "10/10 [==============================] - ETA: 0s - loss: 0.2863 - accuracy: 0.0973WARNING:tensorflow:multiprocessing can interact badly with TensorFlow, causing nondeterministic deadlocks. For high performance data pipelines tf.data is recommended.\n",
      "10/10 [==============================] - 4s 399ms/step - loss: 0.2862 - accuracy: 0.0973 - val_loss: 0.2869 - val_accuracy: 0.1054\n",
      "Epoch 25/40\n",
      "10/10 [==============================] - ETA: 0s - loss: 0.2842 - accuracy: 0.0994WARNING:tensorflow:multiprocessing can interact badly with TensorFlow, causing nondeterministic deadlocks. For high performance data pipelines tf.data is recommended.\n",
      "10/10 [==============================] - 4s 394ms/step - loss: 0.2842 - accuracy: 0.0991 - val_loss: 0.2855 - val_accuracy: 0.1059\n",
      "Epoch 26/40\n",
      "10/10 [==============================] - ETA: 0s - loss: 0.2825 - accuracy: 0.0980WARNING:tensorflow:multiprocessing can interact badly with TensorFlow, causing nondeterministic deadlocks. For high performance data pipelines tf.data is recommended.\n",
      "10/10 [==============================] - 4s 397ms/step - loss: 0.2825 - accuracy: 0.0982 - val_loss: 0.2840 - val_accuracy: 0.1059\n",
      "Epoch 27/40\n",
      "10/10 [==============================] - ETA: 0s - loss: 0.2821 - accuracy: 0.1005WARNING:tensorflow:multiprocessing can interact badly with TensorFlow, causing nondeterministic deadlocks. For high performance data pipelines tf.data is recommended.\n",
      "10/10 [==============================] - 4s 399ms/step - loss: 0.2821 - accuracy: 0.1006 - val_loss: 0.2819 - val_accuracy: 0.1071\n",
      "Epoch 28/40\n",
      "10/10 [==============================] - ETA: 0s - loss: 0.2806 - accuracy: 0.1003WARNING:tensorflow:multiprocessing can interact badly with TensorFlow, causing nondeterministic deadlocks. For high performance data pipelines tf.data is recommended.\n",
      "10/10 [==============================] - 4s 400ms/step - loss: 0.2806 - accuracy: 0.1001 - val_loss: 0.2810 - val_accuracy: 0.1054\n",
      "Epoch 29/40\n",
      "10/10 [==============================] - ETA: 0s - loss: 0.2803 - accuracy: 0.1026WARNING:tensorflow:multiprocessing can interact badly with TensorFlow, causing nondeterministic deadlocks. For high performance data pipelines tf.data is recommended.\n",
      "10/10 [==============================] - 4s 397ms/step - loss: 0.2803 - accuracy: 0.1025 - val_loss: 0.2795 - val_accuracy: 0.1059\n",
      "Epoch 30/40\n",
      "10/10 [==============================] - ETA: 0s - loss: 0.2764 - accuracy: 0.1013WARNING:tensorflow:multiprocessing can interact badly with TensorFlow, causing nondeterministic deadlocks. For high performance data pipelines tf.data is recommended.\n",
      "10/10 [==============================] - 4s 395ms/step - loss: 0.2764 - accuracy: 0.1013 - val_loss: 0.2779 - val_accuracy: 0.1059\n",
      "Epoch 31/40\n",
      "10/10 [==============================] - ETA: 0s - loss: 0.2751 - accuracy: 0.1018WARNING:tensorflow:multiprocessing can interact badly with TensorFlow, causing nondeterministic deadlocks. For high performance data pipelines tf.data is recommended.\n",
      "10/10 [==============================] - 4s 403ms/step - loss: 0.2751 - accuracy: 0.1020 - val_loss: 0.2763 - val_accuracy: 0.1049\n",
      "Epoch 32/40\n",
      "10/10 [==============================] - ETA: 0s - loss: 0.2743 - accuracy: 0.0972WARNING:tensorflow:multiprocessing can interact badly with TensorFlow, causing nondeterministic deadlocks. For high performance data pipelines tf.data is recommended.\n",
      "10/10 [==============================] - 4s 404ms/step - loss: 0.2742 - accuracy: 0.0976 - val_loss: 0.2746 - val_accuracy: 0.1049\n",
      "Epoch 33/40\n",
      "10/10 [==============================] - ETA: 0s - loss: 0.2723 - accuracy: 0.1019WARNING:tensorflow:multiprocessing can interact badly with TensorFlow, causing nondeterministic deadlocks. For high performance data pipelines tf.data is recommended.\n",
      "10/10 [==============================] - 4s 389ms/step - loss: 0.2722 - accuracy: 0.1020 - val_loss: 0.2730 - val_accuracy: 0.1049\n",
      "Epoch 34/40\n",
      "10/10 [==============================] - ETA: 0s - loss: 0.2722 - accuracy: 0.0988WARNING:tensorflow:multiprocessing can interact badly with TensorFlow, causing nondeterministic deadlocks. For high performance data pipelines tf.data is recommended.\n",
      "10/10 [==============================] - 4s 421ms/step - loss: 0.2721 - accuracy: 0.0987 - val_loss: 0.2713 - val_accuracy: 0.1054\n",
      "Epoch 35/40\n",
      "10/10 [==============================] - ETA: 0s - loss: 0.2706 - accuracy: 0.0992WARNING:tensorflow:multiprocessing can interact badly with TensorFlow, causing nondeterministic deadlocks. For high performance data pipelines tf.data is recommended.\n",
      "10/10 [==============================] - 4s 401ms/step - loss: 0.2705 - accuracy: 0.0992 - val_loss: 0.2695 - val_accuracy: 0.1049\n",
      "Epoch 36/40\n",
      "10/10 [==============================] - ETA: 0s - loss: 0.2678 - accuracy: 0.0945WARNING:tensorflow:multiprocessing can interact badly with TensorFlow, causing nondeterministic deadlocks. For high performance data pipelines tf.data is recommended.\n",
      "10/10 [==============================] - 4s 405ms/step - loss: 0.2677 - accuracy: 0.0947 - val_loss: 0.2677 - val_accuracy: 0.1044\n",
      "Epoch 37/40\n",
      "10/10 [==============================] - ETA: 0s - loss: 0.2650 - accuracy: 0.0962WARNING:tensorflow:multiprocessing can interact badly with TensorFlow, causing nondeterministic deadlocks. For high performance data pipelines tf.data is recommended.\n",
      "10/10 [==============================] - 4s 400ms/step - loss: 0.2650 - accuracy: 0.0965 - val_loss: 0.2659 - val_accuracy: 0.1049\n",
      "Epoch 38/40\n",
      "10/10 [==============================] - ETA: 0s - loss: 0.2631 - accuracy: 0.0999WARNING:tensorflow:multiprocessing can interact badly with TensorFlow, causing nondeterministic deadlocks. For high performance data pipelines tf.data is recommended.\n",
      "10/10 [==============================] - 4s 416ms/step - loss: 0.2632 - accuracy: 0.0999 - val_loss: 0.2640 - val_accuracy: 0.1054\n",
      "Epoch 39/40\n",
      "10/10 [==============================] - ETA: 0s - loss: 0.2611 - accuracy: 0.0919WARNING:tensorflow:multiprocessing can interact badly with TensorFlow, causing nondeterministic deadlocks. For high performance data pipelines tf.data is recommended.\n",
      "10/10 [==============================] - 4s 398ms/step - loss: 0.2611 - accuracy: 0.0919 - val_loss: 0.2621 - val_accuracy: 0.1059\n",
      "Epoch 40/40\n",
      "10/10 [==============================] - ETA: 0s - loss: 0.2605 - accuracy: 0.0999WARNING:tensorflow:multiprocessing can interact badly with TensorFlow, causing nondeterministic deadlocks. For high performance data pipelines tf.data is recommended.\n",
      "10/10 [==============================] - 4s 408ms/step - loss: 0.2604 - accuracy: 0.1001 - val_loss: 0.2602 - val_accuracy: 0.1059\n"
     ]
    }
   ],
   "source": [
    "train.main(**params)\n"
   ]
  },
  {
   "cell_type": "code",
   "execution_count": 5,
   "metadata": {},
   "outputs": [
    {
     "data": {
      "text/plain": [
       "Reusing TensorBoard on port 6006 (pid 14571), started 0:47:42 ago. (Use '!kill 14571' to kill it.)"
      ]
     },
     "metadata": {},
     "output_type": "display_data"
    },
    {
     "data": {
      "text/html": [
       "\n",
       "      <iframe id=\"tensorboard-frame-b5a6d6f3f10d0f5c\" width=\"100%\" height=\"800\" frameborder=\"0\">\n",
       "      </iframe>\n",
       "      <script>\n",
       "        (function() {\n",
       "          const frame = document.getElementById(\"tensorboard-frame-b5a6d6f3f10d0f5c\");\n",
       "          const url = new URL(\"/\", window.location);\n",
       "          const port = 6006;\n",
       "          if (port) {\n",
       "            url.port = port;\n",
       "          }\n",
       "          frame.src = url;\n",
       "        })();\n",
       "      </script>\n",
       "    "
      ],
      "text/plain": [
       "<IPython.core.display.HTML object>"
      ]
     },
     "metadata": {},
     "output_type": "display_data"
    }
   ],
   "source": [
    "%reload_ext tensorboard\n",
    "%tensorboard --logdir=logs"
   ]
  },
  {
   "cell_type": "code",
   "execution_count": null,
   "metadata": {},
   "outputs": [],
   "source": []
  }
 ],
 "metadata": {
  "kernelspec": {
   "display_name": "Python 3",
   "language": "python",
   "name": "python3"
  },
  "language_info": {
   "codemirror_mode": {
    "name": "ipython",
    "version": 3
   },
   "file_extension": ".py",
   "mimetype": "text/x-python",
   "name": "python",
   "nbconvert_exporter": "python",
   "pygments_lexer": "ipython3",
   "version": "3.6.10"
  }
 },
 "nbformat": 4,
 "nbformat_minor": 2
}